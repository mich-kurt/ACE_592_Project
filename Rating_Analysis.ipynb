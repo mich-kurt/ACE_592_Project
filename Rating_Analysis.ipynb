{
 "cells": [
  {
   "cell_type": "code",
   "execution_count": 12,
   "metadata": {},
   "outputs": [
    {
     "name": "stderr",
     "output_type": "stream",
     "text": [
      "[nltk_data] Downloading package vader_lexicon to\n",
      "[nltk_data]     C:\\Users\\mqayum2\\AppData\\Roaming\\nltk_data...\n",
      "[nltk_data]   Package vader_lexicon is already up-to-date!\n",
      "[nltk_data] Downloading package stopwords to\n",
      "[nltk_data]     C:\\Users\\mqayum2\\AppData\\Roaming\\nltk_data...\n",
      "[nltk_data]   Package stopwords is already up-to-date!\n"
     ]
    },
    {
     "data": {
      "text/plain": [
       "True"
      ]
     },
     "execution_count": 12,
     "metadata": {},
     "output_type": "execute_result"
    }
   ],
   "source": [
    "import pandas as pd\n",
    "import json\n",
    "import matplotlib.pyplot as plt\n",
    "from sklearn.feature_extraction.text import CountVectorizer\n",
    "from nltk.sentiment.vader import SentimentIntensityAnalyzer\n",
    "import re\n",
    "import string\n",
    "from nltk.corpus import stopwords\n",
    "string.punctuation\n",
    "from datetime import timedelta\n",
    "import numpy as np\n",
    "import nltk\n",
    "from wordcloud import WordCloud\n",
    "nltk.download('vader_lexicon')\n",
    "from nltk.sentiment.vader import SentimentIntensityAnalyzer\n",
    "\n",
    "# Download the stopwords resource\n",
    "nltk.download('stopwords')\n"
   ]
  },
  {
   "cell_type": "code",
   "execution_count": 13,
   "metadata": {},
   "outputs": [],
   "source": [
    "dir_ = \"C:\\\\Users\\\\mqayum2\\\\Box\\\\Spring 2024\\\\Data Science\\\\Data Science Final Project\\\\\"\n"
   ]
  },
  {
   "cell_type": "code",
   "execution_count": 14,
   "metadata": {},
   "outputs": [],
   "source": [
    "df = pd.read_csv(dir_+\"updated_drug_reviews_cleaned.csv\")\n",
    "# df = pd.read_csv(dir_+\"drug_reviews_cleaned.csv\")\n"
   ]
  },
  {
   "cell_type": "code",
   "execution_count": 15,
   "metadata": {},
   "outputs": [],
   "source": [
    "df[['Text', 'Drug', 'cleaned_review']] = df[['Text', 'Drug', 'cleaned_review']].apply(lambda x: x.str.strip())\n",
    "df = df.rename(columns={'cleaned_review': 'Comment'})"
   ]
  },
  {
   "cell_type": "code",
   "execution_count": 19,
   "metadata": {},
   "outputs": [
    {
     "data": {
      "text/html": [
       "<div>\n",
       "<style scoped>\n",
       "    .dataframe tbody tr th:only-of-type {\n",
       "        vertical-align: middle;\n",
       "    }\n",
       "\n",
       "    .dataframe tbody tr th {\n",
       "        vertical-align: top;\n",
       "    }\n",
       "\n",
       "    .dataframe thead th {\n",
       "        text-align: right;\n",
       "    }\n",
       "</style>\n",
       "<table border=\"1\" class=\"dataframe\">\n",
       "  <thead>\n",
       "    <tr style=\"text-align: right;\">\n",
       "      <th></th>\n",
       "      <th>Text</th>\n",
       "      <th>Rating</th>\n",
       "      <th>Drug</th>\n",
       "      <th>Comment</th>\n",
       "    </tr>\n",
       "  </thead>\n",
       "  <tbody>\n",
       "    <tr>\n",
       "      <th>0</th>\n",
       "      <td>I started ozempic 9 months ago. At the time I ...</td>\n",
       "      <td>10.0</td>\n",
       "      <td>Ozempic</td>\n",
       "      <td>I started ozempic 9 months ago. At the time I ...</td>\n",
       "    </tr>\n",
       "    <tr>\n",
       "      <th>1</th>\n",
       "      <td>I did one injection and have been ill since.\\n...</td>\n",
       "      <td>1.0</td>\n",
       "      <td>Ozempic</td>\n",
       "      <td>I did one injection and have been ill since. H...</td>\n",
       "    </tr>\n",
       "    <tr>\n",
       "      <th>2</th>\n",
       "      <td>I’ve been Ozempic for 4 weeks.  I am so glad t...</td>\n",
       "      <td>10.0</td>\n",
       "      <td>Ozempic</td>\n",
       "      <td>Ive been Ozempic for 4 weeks. I am so glad tha...</td>\n",
       "    </tr>\n",
       "    <tr>\n",
       "      <th>3</th>\n",
       "      <td>Started on Ozempic Sept 2020, starting weight ...</td>\n",
       "      <td>10.0</td>\n",
       "      <td>Ozempic</td>\n",
       "      <td>Started on Ozempic Sept 2020, starting weight ...</td>\n",
       "    </tr>\n",
       "    <tr>\n",
       "      <th>4</th>\n",
       "      <td>I took one Ozempic injection at .25 and ended ...</td>\n",
       "      <td>1.0</td>\n",
       "      <td>Ozempic</td>\n",
       "      <td>I took one Ozempic injection at .25 and ended ...</td>\n",
       "    </tr>\n",
       "    <tr>\n",
       "      <th>...</th>\n",
       "      <td>...</td>\n",
       "      <td>...</td>\n",
       "      <td>...</td>\n",
       "      <td>...</td>\n",
       "    </tr>\n",
       "    <tr>\n",
       "      <th>744</th>\n",
       "      <td>I am in my50’s \\nI Lost 5 pounds \\nI take 10 m...</td>\n",
       "      <td>7.0</td>\n",
       "      <td>Jardiance</td>\n",
       "      <td>I am in my50s I Lost 5 pounds I take 10 mg Jar...</td>\n",
       "    </tr>\n",
       "    <tr>\n",
       "      <th>745</th>\n",
       "      <td>I have been on Jardiance for 2 years, as my do...</td>\n",
       "      <td>1.0</td>\n",
       "      <td>Jardiance</td>\n",
       "      <td>I have been on Jardiance for 2 years, as my do...</td>\n",
       "    </tr>\n",
       "    <tr>\n",
       "      <th>746</th>\n",
       "      <td>I get it everyone is different but I will shar...</td>\n",
       "      <td>1.0</td>\n",
       "      <td>Jardiance</td>\n",
       "      <td>I get it everyone is different but I will shar...</td>\n",
       "    </tr>\n",
       "    <tr>\n",
       "      <th>747</th>\n",
       "      <td>Disgusting experience. Urinating one and a hal...</td>\n",
       "      <td>3.0</td>\n",
       "      <td>Jardiance</td>\n",
       "      <td>Disgusting experience. Urinating one and a hal...</td>\n",
       "    </tr>\n",
       "    <tr>\n",
       "      <th>749</th>\n",
       "      <td>I have taken Jardiance for a little over a yea...</td>\n",
       "      <td>3.0</td>\n",
       "      <td>Jardiance</td>\n",
       "      <td>I have taken Jardiance for a little over a yea...</td>\n",
       "    </tr>\n",
       "  </tbody>\n",
       "</table>\n",
       "<p>677 rows × 4 columns</p>\n",
       "</div>"
      ],
      "text/plain": [
       "                                                  Text  Rating       Drug  \\\n",
       "0    I started ozempic 9 months ago. At the time I ...    10.0    Ozempic   \n",
       "1    I did one injection and have been ill since.\\n...     1.0    Ozempic   \n",
       "2    I’ve been Ozempic for 4 weeks.  I am so glad t...    10.0    Ozempic   \n",
       "3    Started on Ozempic Sept 2020, starting weight ...    10.0    Ozempic   \n",
       "4    I took one Ozempic injection at .25 and ended ...     1.0    Ozempic   \n",
       "..                                                 ...     ...        ...   \n",
       "744  I am in my50’s \\nI Lost 5 pounds \\nI take 10 m...     7.0  Jardiance   \n",
       "745  I have been on Jardiance for 2 years, as my do...     1.0  Jardiance   \n",
       "746  I get it everyone is different but I will shar...     1.0  Jardiance   \n",
       "747  Disgusting experience. Urinating one and a hal...     3.0  Jardiance   \n",
       "749  I have taken Jardiance for a little over a yea...     3.0  Jardiance   \n",
       "\n",
       "                                               Comment  \n",
       "0    I started ozempic 9 months ago. At the time I ...  \n",
       "1    I did one injection and have been ill since. H...  \n",
       "2    Ive been Ozempic for 4 weeks. I am so glad tha...  \n",
       "3    Started on Ozempic Sept 2020, starting weight ...  \n",
       "4    I took one Ozempic injection at .25 and ended ...  \n",
       "..                                                 ...  \n",
       "744  I am in my50s I Lost 5 pounds I take 10 mg Jar...  \n",
       "745  I have been on Jardiance for 2 years, as my do...  \n",
       "746  I get it everyone is different but I will shar...  \n",
       "747  Disgusting experience. Urinating one and a hal...  \n",
       "749  I have taken Jardiance for a little over a yea...  \n",
       "\n",
       "[677 rows x 4 columns]"
      ]
     },
     "execution_count": 19,
     "metadata": {},
     "output_type": "execute_result"
    }
   ],
   "source": [
    "# remove missing ratings\n",
    "df.dropna(subset=['Rating'], inplace = True)\n",
    "df\n"
   ]
  },
  {
   "cell_type": "code",
   "execution_count": 20,
   "metadata": {},
   "outputs": [
    {
     "name": "stdout",
     "output_type": "stream",
     "text": [
      "Average rating for the drug  Ozempic is: 6.585585585585585\n",
      "Average rating for the drug  Sitagliptin is: 4.743119266055046\n",
      "Average rating for the drug  Mounjaro is: 6.966101694915254\n",
      "Average rating for the drug  Rybelsus is: 6.25\n",
      "Average rating for the drug  Victoza is: 8.375\n",
      "Average rating for the drug  Jardiance is: 5.6521739130434785\n"
     ]
    }
   ],
   "source": [
    "## Getting average rating per drug\n",
    "import statistics\n",
    "from statistics import mean\n",
    "for x in df['Drug'].unique():\n",
    "    print(\"Average rating for the drug \", x, 'is:',statistics.mean(df[df['Drug']==x].Rating))"
   ]
  },
  {
   "cell_type": "code",
   "execution_count": 21,
   "metadata": {},
   "outputs": [
    {
     "data": {
      "text/plain": [
       "<Axes: title={'center': 'Rating of Diabetes drugs'}, xlabel='Drug', ylabel='Rating'>"
      ]
     },
     "execution_count": 21,
     "metadata": {},
     "output_type": "execute_result"
    },
    {
     "data": {
      "image/png": "[encoded data removed]",
      "text/plain": [
       "<Figure size 640x480 with 1 Axes>"
      ]
     },
     "metadata": {},
     "output_type": "display_data"
    }
   ],
   "source": [
    "## Creating a chart of the average sentiment of each drug\n",
    "df.groupby('Drug')['Rating'].mean().plot(kind='barh', xlabel='Drug', ylabel='Rating',\n",
    "                                           title=\"Rating of Diabetes drugs\")"
   ]
  },
  {
   "cell_type": "code",
   "execution_count": 22,
   "metadata": {},
   "outputs": [],
   "source": [
    "# Make the text lowercase\n",
    "df['lower_text'] =  df['Comment'].str.lower()\n",
    "remv_punc = str.maketrans('','',string.punctuation + '“' +\"‘\"+'”')\n",
    "# Remove the punctuation\n",
    "df['lower_text_NoPunct'] = df['lower_text'].str.translate(remv_punc)\n",
    "\n",
    "# Download the stopwords, but add another list with \"amp\", \"\", and white space \" \"\n",
    "sw_list = stopwords.words('english') + ['amp','',\" \"]\n",
    "# split on whitespace to get separate words\n",
    "df['words'] = [x.split(\" \") for x in df['lower_text_NoPunct']]\n",
    "# Take out stopwords\n",
    "# Convert the text to a set, subtract the set of stopwords, turn into list\n",
    "df['words'] = [list(set(x) - set(sw_list)) for x in df['words']]\n",
    "# Creating an instance of the CountVectorizer with a stop word list.\n",
    "vct = CountVectorizer(stop_words=sw_list)\n",
    "# Gives me an output of word counts \n",
    "X = vct.fit_transform(list(df['lower_text_NoPunct']))\n",
    "# make X a dataframe\n",
    "word_counts = pd.DataFrame(X.sum(axis=0))\n",
    "# Assign to columns a list of the feature names from .get_feature_names_out()\n",
    "word_counts.columns = vct.get_feature_names_out()\n",
    "# Transpose, so that word labels are rows instead of columns\n",
    "word_counts = word_counts.T\n",
    "words =  word_counts[0].index"
   ]
  },
  {
   "cell_type": "code",
   "execution_count": 28,
   "metadata": {},
   "outputs": [],
   "source": [
    "data = pd.DataFrame(X.toarray(), \\\n",
    "                 columns=word_counts.index)\n",
    "#data['Rating'] = df[['Rating']]"
   ]
  },
  {
   "cell_type": "code",
   "execution_count": 48,
   "metadata": {},
   "outputs": [],
   "source": [
    "data['Rating'] = df['Rating'].to_list()"
   ]
  },
  {
   "cell_type": "code",
   "execution_count": null,
   "metadata": {},
   "outputs": [],
   "source": []
  },
  {
   "cell_type": "code",
   "execution_count": null,
   "metadata": {},
   "outputs": [],
   "source": []
  }
 ],
 "metadata": {
  "kernelspec": {
   "display_name": "Python 3",
   "language": "python",
   "name": "python3"
  },
  "language_info": {
   "codemirror_mode": {
    "name": "ipython",
    "version": 3
   },
   "file_extension": ".py",
   "mimetype": "text/x-python",
   "name": "python",
   "nbconvert_exporter": "python",
   "pygments_lexer": "ipython3",
   "version": "3.11.9"
  }
 },
 "nbformat": 4,
 "nbformat_minor": 2
}
