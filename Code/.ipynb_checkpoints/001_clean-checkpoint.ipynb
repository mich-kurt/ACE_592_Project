{
 "cells": [
  {
   "cell_type": "code",
   "outputs": [],
   "source": [
    "import pandas as pd\n",
    "df=pd.read_csv(\"C://Users//25131//OneDrive//桌面//updated_drug_reviews.csv\")"
   ],
   "metadata": {
    "collapsed": false,
    "ExecuteTime": {
     "end_time": "2024-05-02T03:14:04.496118100Z",
     "start_time": "2024-05-02T03:14:04.056089200Z"
    }
   },
   "id": "730204da1974eb09",
   "execution_count": 1
  },
  {
   "cell_type": "code",
   "outputs": [
    {
     "data": {
      "text/plain": "                                                  Text  Rating       Drug\n0    I started ozempic 9 months ago. At the time I ...    10.0    Ozempic\n1    I did one injection and have been ill since.\\n...     1.0    Ozempic\n2    I’ve been Ozempic for 4 weeks.  I am so glad t...    10.0    Ozempic\n3    Started on Ozempic Sept 2020, starting weight ...    10.0    Ozempic\n4    I took one Ozempic injection at .25 and ended ...     1.0    Ozempic\n..                                                 ...     ...        ...\n745  I have been on Jardiance for 2 years, as my do...     1.0  Jardiance\n746  I get it everyone is different but I will shar...     1.0  Jardiance\n747  Disgusting experience. Urinating one and a hal...     3.0  Jardiance\n748  I've been on Jardiance in combination with met...     NaN  Jardiance\n749  I have taken Jardiance for a little over a yea...     3.0  Jardiance\n\n[750 rows x 3 columns]",
      "text/html": "<div>\n<style scoped>\n    .dataframe tbody tr th:only-of-type {\n        vertical-align: middle;\n    }\n\n    .dataframe tbody tr th {\n        vertical-align: top;\n    }\n\n    .dataframe thead th {\n        text-align: right;\n    }\n</style>\n<table border=\"1\" class=\"dataframe\">\n  <thead>\n    <tr style=\"text-align: right;\">\n      <th></th>\n      <th>Text</th>\n      <th>Rating</th>\n      <th>Drug</th>\n    </tr>\n  </thead>\n  <tbody>\n    <tr>\n      <th>0</th>\n      <td>I started ozempic 9 months ago. At the time I ...</td>\n      <td>10.0</td>\n      <td>Ozempic</td>\n    </tr>\n    <tr>\n      <th>1</th>\n      <td>I did one injection and have been ill since.\\n...</td>\n      <td>1.0</td>\n      <td>Ozempic</td>\n    </tr>\n    <tr>\n      <th>2</th>\n      <td>I’ve been Ozempic for 4 weeks.  I am so glad t...</td>\n      <td>10.0</td>\n      <td>Ozempic</td>\n    </tr>\n    <tr>\n      <th>3</th>\n      <td>Started on Ozempic Sept 2020, starting weight ...</td>\n      <td>10.0</td>\n      <td>Ozempic</td>\n    </tr>\n    <tr>\n      <th>4</th>\n      <td>I took one Ozempic injection at .25 and ended ...</td>\n      <td>1.0</td>\n      <td>Ozempic</td>\n    </tr>\n    <tr>\n      <th>...</th>\n      <td>...</td>\n      <td>...</td>\n      <td>...</td>\n    </tr>\n    <tr>\n      <th>745</th>\n      <td>I have been on Jardiance for 2 years, as my do...</td>\n      <td>1.0</td>\n      <td>Jardiance</td>\n    </tr>\n    <tr>\n      <th>746</th>\n      <td>I get it everyone is different but I will shar...</td>\n      <td>1.0</td>\n      <td>Jardiance</td>\n    </tr>\n    <tr>\n      <th>747</th>\n      <td>Disgusting experience. Urinating one and a hal...</td>\n      <td>3.0</td>\n      <td>Jardiance</td>\n    </tr>\n    <tr>\n      <th>748</th>\n      <td>I've been on Jardiance in combination with met...</td>\n      <td>NaN</td>\n      <td>Jardiance</td>\n    </tr>\n    <tr>\n      <th>749</th>\n      <td>I have taken Jardiance for a little over a yea...</td>\n      <td>3.0</td>\n      <td>Jardiance</td>\n    </tr>\n  </tbody>\n</table>\n<p>750 rows × 3 columns</p>\n</div>"
     },
     "execution_count": 3,
     "metadata": {},
     "output_type": "execute_result"
    }
   ],
   "source": [
    "df"
   ],
   "metadata": {
    "collapsed": false,
    "ExecuteTime": {
     "end_time": "2024-05-02T03:14:31.468032700Z",
     "start_time": "2024-05-02T03:14:31.447030100Z"
    }
   },
   "id": "52509269df56df",
   "execution_count": 3
  },
  {
   "cell_type": "code",
   "outputs": [],
   "source": [
    "import re"
   ],
   "metadata": {
    "collapsed": false
   },
   "id": "88b778558fd8cce2"
  },
  {
   "cell_type": "code",
   "outputs": [],
   "source": [
    "def clean_text(text):\n",
    "    cleaned_text = re.sub(r'[^a-zA-Z0-9\\s.,!?\\'\":;()]', '', text)\n",
    "\n",
    "    cleaned_text = re.sub(r'\\s+', ' ', cleaned_text)\n",
    "\n",
    "    cleaned_text = cleaned_text.strip()\n",
    "    \n",
    "    return cleaned_text"
   ],
   "metadata": {
    "collapsed": false,
    "ExecuteTime": {
     "end_time": "2024-05-02T03:29:20.082764700Z",
     "start_time": "2024-05-02T03:29:20.069756700Z"
    }
   },
   "id": "d23a6c8a53ee5751",
   "execution_count": 5
  },
  {
   "cell_type": "code",
   "outputs": [],
   "source": [
    "df['cleaned_review'] = df['Text'].apply(clean_text)"
   ],
   "metadata": {
    "collapsed": false,
    "ExecuteTime": {
     "end_time": "2024-05-02T03:29:49.699229200Z",
     "start_time": "2024-05-02T03:29:49.661703500Z"
    }
   },
   "id": "ad6a3131178e04ec",
   "execution_count": 6
  },
  {
   "cell_type": "code",
   "outputs": [],
   "source": [
    "df.to_csv(\"C://Users//25131//OneDrive//桌面//updated_drug_reviews_cleaned.csv\", index=False)"
   ],
   "metadata": {
    "collapsed": false,
    "ExecuteTime": {
     "end_time": "2024-05-02T03:30:42.620958Z",
     "start_time": "2024-05-02T03:30:42.590958300Z"
    }
   },
   "id": "18546f8c1953f138",
   "execution_count": 8
  },
  {
   "cell_type": "code",
   "outputs": [],
   "source": [],
   "metadata": {
    "collapsed": false
   },
   "id": "24cc41fb3a38aa6e"
  }
 ],
 "metadata": {
  "kernelspec": {
   "display_name": "Python 3",
   "language": "python",
   "name": "python3"
  },
  "language_info": {
   "codemirror_mode": {
    "name": "ipython",
    "version": 2
   },
   "file_extension": ".py",
   "mimetype": "text/x-python",
   "name": "python",
   "nbconvert_exporter": "python",
   "pygments_lexer": "ipython2",
   "version": "2.7.6"
  }
 },
 "nbformat": 4,
 "nbformat_minor": 5
}
