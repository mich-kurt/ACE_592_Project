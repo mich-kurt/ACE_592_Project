{
 "cells": [
  {
   "cell_type": "markdown",
   "metadata": {
    "id": "4ITlHQdG-vjN"
   },
   "source": [
    "https://www.drugs.com/condition/diabetes-mellitus-type-ii.html"
   ]
  },
  {
   "cell_type": "markdown",
   "metadata": {
    "id": "kKo3QO84-KS3"
   },
   "source": [
    "## Ozempic ##"
   ]
  },
  {
   "cell_type": "code",
   "execution_count": null,
   "metadata": {
    "id": "Ikz__LiL_XFr"
   },
   "outputs": [],
   "source": [
    "import requests\n",
    "from bs4 import BeautifulSoup\n",
    "import pandas as pd\n",
    "import matplotlib.pyplot as plt\n",
    "import numpy as np\n",
    "from matplotlib import colors\n",
    "from matplotlib.ticker import PercentFormatter"
   ]
  },
  {
   "cell_type": "code",
   "execution_count": null,
   "metadata": {
    "id": "6ttIc2Rx0BFR"
   },
   "outputs": [],
   "source": [
    "\n",
    "\n",
    "\n",
    "\n",
    "\n",
    "url = \"https://www.drugs.com/comments/semaglutide/ozempic-for-diabetes-mellitus-type-ii.html\"\n",
    "#creates a request to access the website\n",
    "response = requests.get(url)\n",
    "if response.status_code == 200:\n",
    "    # if we get a response from the website, parse the content with BeautifulSoup\n",
    "    soup = BeautifulSoup(response.text, 'html.parser')\n",
    "\n",
    "    #find all the comment boxes\n",
    "    ratings = soup.findAll(\"div\", class_=\"ddc-comment ddc-box ddc-mgb-2\")\n",
    "    data = []\n",
    "    #for each comment box\n",
    "    for rating in ratings:\n",
    "        comment = rating.text\n",
    "        #This splits on the first parenthese which is always the start of a comment, then takes the second part\n",
    "        text = comment.split('\\\"')[1]\n",
    "        \n",
    "          #because sometimes there isn't a number review, I needed to wrap it in a try block \n",
    "        try:\n",
    "          #Takes the comment and takes after the second parathese, then splits again and takes the first part\n",
    "          rating_value = int(comment.split('\\\"')[2].strip().split()[0])\n",
    "        except ValueError as e:\n",
    "          #if it cant be taken as an int, becomes a NaN\n",
    "          rating_value = np.NaN\n",
    "          #appends the comment and rating\n",
    "        data.append({\"Text\": text, \"Rating\": rating_value, \"Drug\": \"Ozempic\"})\n",
    "\n",
    "#if the response doesn't pass, return the information below \n",
    "else:\n",
    "    print(\"Failed to retrieve the web page. Status code:\", response.status_code)\n"
   ]
  },
  {
   "cell_type": "code",
   "execution_count": null,
   "metadata": {
    "id": "MFVwyrOzs2Aa"
   },
   "outputs": [],
   "source": [
    "#because the next webpage is always 2, I start i at 2\n",
    "i = 2\n",
    "#anymore than 6 pages requires a log on in order to access, so I just stop it before. \n",
    "while i < 7:\n",
    "    url = f\"https://www.drugs.com/comments/semaglutide/ozempic-for-diabetes-mellitus-type-ii.html?page={i}\"\n",
    "    #creates a request to access the website\n",
    "    response = requests.get(url)\n",
    "    if response.status_code == 200:\n",
    "\n",
    "      soup = BeautifulSoup(response.text, 'html.parser')\n",
    "      ratings = soup.findAll(\"div\", class_=\"ddc-comment ddc-box ddc-mgb-2\")\n",
    "\n",
    "      for rating in ratings:\n",
    "        comment = rating.text\n",
    "        text = comment.split('\\\"')[1]\n",
    "        try:\n",
    "          rating_value = int(comment.split('\\\"')[2].strip().split()[0])\n",
    "        except ValueError as e:\n",
    "          rating_value = np.NaN\n",
    "        data.append({\"Text\": text, \"Rating\": rating_value, \"Drug\": \"Ozempic\"})\n",
    "      #iterates up one to get the next webpage next time\n",
    "      i += 1\n",
    "\n",
    "    else:\n",
    "      break\n",
    "\n"
   ]
  },
  {
   "cell_type": "markdown",
   "metadata": {
    "id": "nY_VqIrFEeEZ"
   },
   "source": [
    "## Sitagliptin ##"
   ]
  },
  {
   "cell_type": "code",
   "execution_count": null,
   "metadata": {
    "id": "tBshN_4hy4ER"
   },
   "outputs": [],
   "source": [
    "\n",
    "url = \"https://www.drugs.com/comments/sitagliptin/\"\n",
    "response = requests.get(url)\n",
    "if response.status_code == 200:\n",
    "\n",
    "    soup = BeautifulSoup(response.text, 'html.parser')\n",
    "\n",
    "\n",
    "    ratings = soup.findAll(\"div\", class_=\"ddc-comment ddc-box ddc-mgb-2\")\n",
    "    for rating in ratings:\n",
    "        comment = rating.text\n",
    "        text = comment.split('\\\"')[1]\n",
    "        try:\n",
    "          rating_value = int(comment.split('\\\"')[2].strip().split()[0])\n",
    "        except ValueError as e:\n",
    "          rating_value = np.NaN\n",
    "        data.append({\"Text\": text, \"Rating\": rating_value, \"Drug\": \"Sitagliptin\"})\n",
    "\n",
    "\n",
    "else:\n",
    "    print(\"Failed to retrieve the web page. Status code:\", response.status_code)"
   ]
  },
  {
   "cell_type": "code",
   "execution_count": null,
   "metadata": {
    "id": "V47USObzy_bZ"
   },
   "outputs": [],
   "source": [
    "i = 2\n",
    "while i < 7:\n",
    "    url = f\"https://www.drugs.com/comments/sitagliptin/?page={i}\"\n",
    "    response = requests.get(url)\n",
    "    if response.status_code == 200:\n",
    "\n",
    "      soup = BeautifulSoup(response.text, 'html.parser')\n",
    "      ratings = soup.findAll(\"div\", class_=\"ddc-comment ddc-box ddc-mgb-2\")\n",
    "\n",
    "      for rating in ratings:\n",
    "        comment = rating.text\n",
    "        text = comment.split('\\\"')[1]\n",
    "        try:\n",
    "          rating_value = int(comment.split('\\\"')[2].strip().split()[0])\n",
    "        except ValueError as e:\n",
    "          rating_value = np.NaN\n",
    "        data.append({\"Text\": text, \"Rating\": rating_value, \"Drug\": \"Sitagliptin\"})\n",
    "      i += 1\n",
    "\n",
    "    else:\n",
    "      break\n",
    "\n"
   ]
  },
  {
   "cell_type": "markdown",
   "metadata": {
    "id": "acPRS9GiKENy"
   },
   "source": [
    "## Mounjaro  ##"
   ]
  },
  {
   "cell_type": "code",
   "execution_count": null,
   "metadata": {
    "id": "XLrswKwX5k9l"
   },
   "outputs": [],
   "source": [
    "\n",
    "url = \"https://www.drugs.com/comments/tirzepatide/mounjaro-for-diabetes-mellitus-type-ii.html\"\n",
    "response = requests.get(url)\n",
    "if response.status_code == 200:\n",
    "\n",
    "    soup = BeautifulSoup(response.text, 'html.parser')\n",
    "\n",
    "\n",
    "    ratings = soup.findAll(\"div\", class_=\"ddc-comment ddc-box ddc-mgb-2\")\n",
    "    for rating in ratings:\n",
    "        comment = rating.text\n",
    "        text = comment.split('\\\"')[1]\n",
    "        try:\n",
    "          rating_value = int(comment.split('\\\"')[2].strip().split()[0])\n",
    "        except ValueError as e:\n",
    "          rating_value = np.NaN\n",
    "        data.append({\"Text\": text, \"Rating\": rating_value, \"Drug\": \"Mounjaro\"})\n",
    "\n",
    "\n",
    "else:\n",
    "    print(\"Failed to retrieve the web page. Status code:\", response.status_code)"
   ]
  },
  {
   "cell_type": "code",
   "execution_count": null,
   "metadata": {
    "id": "EyWVcG9e5x-N"
   },
   "outputs": [],
   "source": [
    "i = 2\n",
    "while i < 7:\n",
    "    url = f\"https://www.drugs.com/comments/tirzepatide/mounjaro-for-diabetes-mellitus-type-ii.html?page={i}\"\n",
    "    response = requests.get(url)\n",
    "    if response.status_code == 200:\n",
    "      soup = BeautifulSoup(response.text, 'html.parser')\n",
    "      ratings = soup.findAll(\"div\", class_=\"ddc-comment ddc-box ddc-mgb-2\")\n",
    "\n",
    "      for rating in ratings:\n",
    "        comment = rating.text\n",
    "        text = comment.split('\\\"')[1]\n",
    "        try:\n",
    "          rating_value = int(comment.split('\\\"')[2].strip().split()[0])\n",
    "        except ValueError as e:\n",
    "          rating_value = np.NaN\n",
    "        data.append({\"Text\": text, \"Rating\": rating_value, \"Drug\": \"Mounjaro\"})\n",
    "      i += 1\n",
    "\n",
    "    else:\n",
    "      break"
   ]
  },
  {
   "cell_type": "markdown",
   "metadata": {
    "id": "WWQ89cFa4L39"
   },
   "source": [
    "## rybelsus ##"
   ]
  },
  {
   "cell_type": "code",
   "execution_count": null,
   "metadata": {
    "id": "Ceg_XrMp4FaF"
   },
   "outputs": [],
   "source": [
    "\n",
    "url = \"https://www.drugs.com/comments/semaglutide/rybelsus-for-diabetes-mellitus-type-ii.html\"\n",
    "response = requests.get(url)\n",
    "if response.status_code == 200:\n",
    "\n",
    "    soup = BeautifulSoup(response.text, 'html.parser')\n",
    "\n",
    "\n",
    "    ratings = soup.findAll(\"div\", class_=\"ddc-comment ddc-box ddc-mgb-2\")\n",
    "    for rating in ratings:\n",
    "        comment = rating.text\n",
    "        text = comment.split('\\\"')[1]\n",
    "        try:\n",
    "          rating_value = int(comment.split('\\\"')[2].strip().split()[0])\n",
    "        except ValueError as e:\n",
    "          rating_value = np.NaN\n",
    "        data.append({\"Text\": text, \"Rating\": rating_value, \"Drug\": \"Rybelsus\"})\n",
    "\n",
    "\n",
    "else:\n",
    "    print(\"Failed to retrieve the web page. Status code:\", response.status_code)"
   ]
  },
  {
   "cell_type": "code",
   "execution_count": null,
   "metadata": {
    "id": "e3yN4DgJ4iMM"
   },
   "outputs": [],
   "source": [
    "i = 2\n",
    "while i < 7:\n",
    "    url = f\"https://www.drugs.com/comments/semaglutide/rybelsus-for-diabetes-mellitus-type-ii.html?page={i}\"\n",
    "    response = requests.get(url)\n",
    "    if response.status_code == 200:\n",
    "\n",
    "      soup = BeautifulSoup(response.text, 'html.parser')\n",
    "      ratings = soup.findAll(\"div\", class_=\"ddc-comment ddc-box ddc-mgb-2\")\n",
    "\n",
    "      for rating in ratings:\n",
    "        comment = rating.text\n",
    "        text = comment.split('\\\"')[1]\n",
    "        try:\n",
    "          rating_value = int(comment.split('\\\"')[2].strip().split()[0])\n",
    "        except ValueError as e:\n",
    "          rating_value = np.NaN\n",
    "        data.append({\"Text\": text, \"Rating\": rating_value, \"Drug\": \"Rybelsus\"})\n",
    "      i += 1\n",
    "\n",
    "    else:\n",
    "      break"
   ]
  },
  {
   "cell_type": "markdown",
   "metadata": {
    "id": "l8JH_qV14tVk"
   },
   "source": [
    "## victoza ##"
   ]
  },
  {
   "cell_type": "code",
   "execution_count": null,
   "metadata": {
    "id": "dxVkY-ZG4tF0"
   },
   "outputs": [],
   "source": [
    "\n",
    "url = \"https://www.drugs.com/comments/liraglutide/victoza-for-diabetes-mellitus-type-ii.html\"\n",
    "response = requests.get(url)\n",
    "if response.status_code == 200:\n",
    "\n",
    "    soup = BeautifulSoup(response.text, 'html.parser')\n",
    "\n",
    "\n",
    "    ratings = soup.findAll(\"div\", class_=\"ddc-comment ddc-box ddc-mgb-2\")\n",
    "    for rating in ratings:\n",
    "        comment = rating.text\n",
    "        text = comment.split('\\\"')[1]\n",
    "        try:\n",
    "          rating_value = int(comment.split('\\\"')[2].strip().split()[0])\n",
    "        except ValueError as e:\n",
    "          rating_value = np.NaN\n",
    "        data.append({\"Text\": text, \"Rating\": rating_value, \"Drug\": \"Victoza\"})\n",
    "\n",
    "\n",
    "else:\n",
    "    print(\"Failed to retrieve the web page. Status code:\", response.status_code)"
   ]
  },
  {
   "cell_type": "code",
   "execution_count": null,
   "metadata": {
    "id": "0wIgjysG8UJ1"
   },
   "outputs": [],
   "source": [
    "i = 2\n",
    "while i < 7:\n",
    "    url = f\"https://www.drugs.com/comments/liraglutide/victoza-for-diabetes-mellitus-type-ii.html?page={i}\"\n",
    "    response = requests.get(url)\n",
    "    if response.status_code == 200:\n",
    "\n",
    "      soup = BeautifulSoup(response.text, 'html.parser')\n",
    "      ratings = soup.findAll(\"div\", class_=\"ddc-comment ddc-box ddc-mgb-2\")\n",
    "\n",
    "      for rating in ratings:\n",
    "        comment = rating.text\n",
    "        text = comment.split('\\\"')[1]\n",
    "        try:\n",
    "          rating_value = int(comment.split('\\\"')[2].strip().split()[0])\n",
    "        except ValueError as e:\n",
    "          rating_value = np.NaN\n",
    "        data.append({\"Text\": text, \"Rating\": rating_value, \"Drug\": \"Victoza\"})\n",
    "      i += 1\n",
    "\n",
    "    else:\n",
    "      break"
   ]
  },
  {
   "cell_type": "markdown",
   "metadata": {
    "id": "wBZ14fp18f80"
   },
   "source": [
    "## jardiance ##"
   ]
  },
  {
   "cell_type": "code",
   "execution_count": null,
   "metadata": {
    "id": "OFTDHUu7NrUr"
   },
   "outputs": [],
   "source": [
    "\n",
    "url = \"https://www.drugs.com/comments/empagliflozin/jardiance-for-diabetes-mellitus-type-ii.html\"\n",
    "response = requests.get(url)\n",
    "if response.status_code == 200:\n",
    "\n",
    "    soup = BeautifulSoup(response.text, 'html.parser')\n",
    "\n",
    "\n",
    "    ratings = soup.findAll(\"div\", class_=\"ddc-comment ddc-box ddc-mgb-2\")\n",
    "    for rating in ratings:\n",
    "        comment = rating.text\n",
    "        text = comment.split('\\\"')[1]\n",
    "        try:\n",
    "          rating_value = int(comment.split('\\\"')[2].strip().split()[0])\n",
    "        except ValueError as e:\n",
    "          rating_value = np.NaN\n",
    "        data.append({\"Text\": text, \"Rating\": rating_value, \"Drug\": \"Jardiance\"})\n",
    "\n",
    "\n",
    "else:\n",
    "    print(\"Failed to retrieve the web page. Status code:\", response.status_code)"
   ]
  },
  {
   "cell_type": "code",
   "execution_count": null,
   "metadata": {
    "id": "9pb-zQtyNtya"
   },
   "outputs": [],
   "source": [
    "i = 2\n",
    "while i < 7:\n",
    "    url = f\"https://www.drugs.com/comments/empagliflozin/jardiance-for-diabetes-mellitus-type-ii.html?page={i}\"\n",
    "    response = requests.get(url)\n",
    "    if response.status_code == 200:\n",
    "\n",
    "      soup = BeautifulSoup(response.text, 'html.parser')\n",
    "      ratings = soup.findAll(\"div\", class_=\"ddc-comment ddc-box ddc-mgb-2\")\n",
    "\n",
    "      for rating in ratings:\n",
    "        comment = rating.text\n",
    "        text = comment.split('\\\"')[1]\n",
    "        try:\n",
    "          rating_value = int(comment.split('\\\"')[2].strip().split()[0])\n",
    "        except ValueError as e:\n",
    "          rating_value = np.NaN\n",
    "        data.append({\"Text\": text, \"Rating\": rating_value, \"Drug\": \"Jardiance\"})\n",
    "      i += 1\n",
    "\n",
    "    else:\n",
    "      break\n",
    "#makes all the data stored a dataframe    \n",
    "df = pd.DataFrame(data)"
   ]
  },
  {
   "cell_type": "code",
   "execution_count": null,
   "metadata": {
    "id": "LwFNw84sSMX_"
   },
   "outputs": [],
   "source": [
    "#turns the dataframe into a csv\n",
    "df.to_csv('raw_drug_reviews.csv', index=False)"
   ]
  }
 ],
 "metadata": {
  "colab": {
   "provenance": []
  },
  "kernelspec": {
   "display_name": "Python 3 (ipykernel)",
   "language": "python",
   "name": "python3"
  },
  "language_info": {
   "codemirror_mode": {
    "name": "ipython",
    "version": 3
   },
   "file_extension": ".py",
   "mimetype": "text/x-python",
   "name": "python",
   "nbconvert_exporter": "python",
   "pygments_lexer": "ipython3",
   "version": "3.11.8"
  }
 },
 "nbformat": 4,
 "nbformat_minor": 4
}
