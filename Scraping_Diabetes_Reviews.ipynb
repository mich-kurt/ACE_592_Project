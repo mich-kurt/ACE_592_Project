{
  "cells": [
    {
      "cell_type": "markdown",
      "metadata": {
        "id": "4ITlHQdG-vjN"
      },
      "source": [
        "https://www.drugs.com/condition/diabetes-mellitus-type-ii.html"
      ]
    },
    {
      "cell_type": "markdown",
      "metadata": {
        "id": "kKo3QO84-KS3"
      },
      "source": [
        "## Ozempic ##"
      ]
    },
    {
      "cell_type": "code",
      "execution_count": null,
      "metadata": {
        "id": "Ikz__LiL_XFr"
      },
      "outputs": [],
      "source": [
        "import requests\n",
        "from bs4 import BeautifulSoup\n",
        "import pandas as pd\n",
        "import matplotlib.pyplot as plt\n",
        "import numpy as np\n",
        "from matplotlib import colors\n",
        "from matplotlib.ticker import PercentFormatter"
      ]
    },
    {
      "cell_type": "markdown",
      "metadata": {
        "id": "-W_c6in_orqk"
      },
      "source": [
        "## This handles the first page since the URL is different than the following ##"
      ]
    },
    {
      "cell_type": "markdown",
      "metadata": {
        "id": "E1gJGpvGmwzS"
      },
      "source": [
        "ddc-comment ddc-box ddc-mgb-2"
      ]
    },
    {
      "cell_type": "code",
      "execution_count": null,
      "metadata": {
        "id": "6ttIc2Rx0BFR"
      },
      "outputs": [],
      "source": [
        "\n",
        "\n",
        "\n",
        "\n",
        "\n",
        "url = \"https://www.drugs.com/comments/semaglutide/ozempic-for-diabetes-mellitus-type-ii.html\"\n",
        "response = requests.get(url)\n",
        "if response.status_code == 200:\n",
        "    # Parse the content with BeautifulSoup\n",
        "    soup = BeautifulSoup(response.text, 'html.parser')\n",
        "\n",
        "\n",
        "    ratings = soup.findAll(\"div\", class_=\"ddc-comment ddc-box ddc-mgb-2\")\n",
        "    data = []\n",
        "    for rating in ratings:\n",
        "        comment = rating.text\n",
        "        text = comment.split('\\\"')[1]\n",
        "        try:\n",
        "          rating_value = int(comment.split('\\\"')[2].strip().split()[0])\n",
        "        except ValueError as e:\n",
        "          rating_value = np.NaN\n",
        "        data.append({\"Text\": text, \"Rating\": rating_value, \"Drug\": \"Ozempic\"})\n",
        "\n",
        "\n",
        "else:\n",
        "    print(\"Failed to retrieve the web page. Status code:\", response.status_code)\n"
      ]
    },
    {
      "cell_type": "markdown",
      "metadata": {
        "id": "lDinNm6Q-Iw9"
      },
      "source": []
    },
    {
      "cell_type": "markdown",
      "metadata": {
        "id": "KMdVjTDIrzM8"
      },
      "source": [
        "## Handles Ozempic Pages 2-5, cant do page 6+ because it requires a log on. ##"
      ]
    },
    {
      "cell_type": "code",
      "execution_count": null,
      "metadata": {
        "id": "MFVwyrOzs2Aa"
      },
      "outputs": [],
      "source": [
        "\n",
        "i = 2\n",
        "while i < 7:\n",
        "    url = f\"https://www.drugs.com/comments/semaglutide/ozempic-for-diabetes-mellitus-type-ii.html?page={i}\"\n",
        "    response = requests.get(url)\n",
        "    if response.status_code == 200:\n",
        "\n",
        "      soup = BeautifulSoup(response.text, 'html.parser')\n",
        "      ratings = soup.findAll(\"div\", class_=\"ddc-comment ddc-box ddc-mgb-2\")\n",
        "\n",
        "      for rating in ratings:\n",
        "        comment = rating.text\n",
        "        text = comment.split('\\\"')[1]\n",
        "        try:\n",
        "          rating_value = int(comment.split('\\\"')[2].strip().split()[0])\n",
        "        except ValueError as e:\n",
        "          rating_value = np.NaN\n",
        "        data.append({\"Text\": text, \"Rating\": rating_value, \"Drug\": \"Ozempic\"})\n",
        "      i += 1\n",
        "\n",
        "    else:\n",
        "      break\n",
        "\n"
      ]
    },
    {
      "cell_type": "markdown",
      "metadata": {
        "id": "nY_VqIrFEeEZ"
      },
      "source": [
        "## Sitagliptin ##"
      ]
    },
    {
      "cell_type": "code",
      "execution_count": null,
      "metadata": {
        "id": "tBshN_4hy4ER"
      },
      "outputs": [],
      "source": [
        "\n",
        "url = \"https://www.drugs.com/comments/sitagliptin/\"\n",
        "response = requests.get(url)\n",
        "if response.status_code == 200:\n",
        "\n",
        "    soup = BeautifulSoup(response.text, 'html.parser')\n",
        "\n",
        "\n",
        "    ratings = soup.findAll(\"div\", class_=\"ddc-comment ddc-box ddc-mgb-2\")\n",
        "    for rating in ratings:\n",
        "        comment = rating.text\n",
        "        text = comment.split('\\\"')[1]\n",
        "        try:\n",
        "          rating_value = int(comment.split('\\\"')[2].strip().split()[0])\n",
        "        except ValueError as e:\n",
        "          rating_value = np.NaN\n",
        "        data.append({\"Text\": text, \"Rating\": rating_value, \"Drug\": \"Sitagliptin\"})\n",
        "\n",
        "\n",
        "else:\n",
        "    print(\"Failed to retrieve the web page. Status code:\", response.status_code)"
      ]
    },
    {
      "cell_type": "code",
      "execution_count": null,
      "metadata": {
        "id": "V47USObzy_bZ"
      },
      "outputs": [],
      "source": [
        "i = 2\n",
        "while i < 7:\n",
        "    url = f\"https://www.drugs.com/comments/sitagliptin/?page={i}\"\n",
        "    response = requests.get(url)\n",
        "    if response.status_code == 200:\n",
        "\n",
        "      soup = BeautifulSoup(response.text, 'html.parser')\n",
        "      ratings = soup.findAll(\"div\", class_=\"ddc-comment ddc-box ddc-mgb-2\")\n",
        "\n",
        "      for rating in ratings:\n",
        "        comment = rating.text\n",
        "        text = comment.split('\\\"')[1]\n",
        "        try:\n",
        "          rating_value = int(comment.split('\\\"')[2].strip().split()[0])\n",
        "        except ValueError as e:\n",
        "          rating_value = np.NaN\n",
        "        data.append({\"Text\": text, \"Rating\": rating_value, \"Drug\": \"Sitagliptin\"})\n",
        "      i += 1\n",
        "\n",
        "    else:\n",
        "      break\n",
        "\n"
      ]
    },
    {
      "cell_type": "markdown",
      "metadata": {
        "id": "acPRS9GiKENy"
      },
      "source": [
        "## Mounjaro  ##"
      ]
    },
    {
      "cell_type": "code",
      "execution_count": null,
      "metadata": {
        "id": "XLrswKwX5k9l"
      },
      "outputs": [],
      "source": [
        "\n",
        "url = \"https://www.drugs.com/comments/tirzepatide/mounjaro-for-diabetes-mellitus-type-ii.html\"\n",
        "response = requests.get(url)\n",
        "if response.status_code == 200:\n",
        "\n",
        "    soup = BeautifulSoup(response.text, 'html.parser')\n",
        "\n",
        "\n",
        "    ratings = soup.findAll(\"div\", class_=\"ddc-comment ddc-box ddc-mgb-2\")\n",
        "    for rating in ratings:\n",
        "        comment = rating.text\n",
        "        text = comment.split('\\\"')[1]\n",
        "        try:\n",
        "          rating_value = int(comment.split('\\\"')[2].strip().split()[0])\n",
        "        except ValueError as e:\n",
        "          rating_value = np.NaN\n",
        "        data.append({\"Text\": text, \"Rating\": rating_value, \"Drug\": \"Mounjaro\"})\n",
        "\n",
        "\n",
        "else:\n",
        "    print(\"Failed to retrieve the web page. Status code:\", response.status_code)"
      ]
    },
    {
      "cell_type": "code",
      "execution_count": null,
      "metadata": {
        "id": "EyWVcG9e5x-N"
      },
      "outputs": [],
      "source": [
        "i = 2\n",
        "while i < 7:\n",
        "    url = f\"https://www.drugs.com/comments/tirzepatide/mounjaro-for-diabetes-mellitus-type-ii.html?page={i}\"\n",
        "    response = requests.get(url)\n",
        "    if response.status_code == 200:\n",
        "      soup = BeautifulSoup(response.text, 'html.parser')\n",
        "      ratings = soup.findAll(\"div\", class_=\"ddc-comment ddc-box ddc-mgb-2\")\n",
        "\n",
        "      for rating in ratings:\n",
        "        comment = rating.text\n",
        "        text = comment.split('\\\"')[1]\n",
        "        try:\n",
        "          rating_value = int(comment.split('\\\"')[2].strip().split()[0])\n",
        "        except ValueError as e:\n",
        "          rating_value = np.NaN\n",
        "        data.append({\"Text\": text, \"Rating\": rating_value, \"Drug\": \"Mounjaro\"})\n",
        "      i += 1\n",
        "\n",
        "    else:\n",
        "      break"
      ]
    },
    {
      "cell_type": "markdown",
      "metadata": {
        "id": "WWQ89cFa4L39"
      },
      "source": [
        "## rybelsus ##"
      ]
    },
    {
      "cell_type": "code",
      "execution_count": null,
      "metadata": {
        "id": "Ceg_XrMp4FaF"
      },
      "outputs": [],
      "source": [
        "\n",
        "url = \"https://www.drugs.com/comments/semaglutide/rybelsus-for-diabetes-mellitus-type-ii.html\"\n",
        "response = requests.get(url)\n",
        "if response.status_code == 200:\n",
        "\n",
        "    soup = BeautifulSoup(response.text, 'html.parser')\n",
        "\n",
        "\n",
        "    ratings = soup.findAll(\"div\", class_=\"ddc-comment ddc-box ddc-mgb-2\")\n",
        "    for rating in ratings:\n",
        "        comment = rating.text\n",
        "        text = comment.split('\\\"')[1]\n",
        "        try:\n",
        "          rating_value = int(comment.split('\\\"')[2].strip().split()[0])\n",
        "        except ValueError as e:\n",
        "          rating_value = np.NaN\n",
        "        data.append({\"Text\": text, \"Rating\": rating_value, \"Drug\": \"Rybelsus\"})\n",
        "\n",
        "\n",
        "else:\n",
        "    print(\"Failed to retrieve the web page. Status code:\", response.status_code)"
      ]
    },
    {
      "cell_type": "code",
      "execution_count": null,
      "metadata": {
        "id": "e3yN4DgJ4iMM"
      },
      "outputs": [],
      "source": [
        "i = 2\n",
        "while i < 7:\n",
        "    url = f\"https://www.drugs.com/comments/semaglutide/rybelsus-for-diabetes-mellitus-type-ii.html?page={i}\"\n",
        "    response = requests.get(url)\n",
        "    if response.status_code == 200:\n",
        "\n",
        "      soup = BeautifulSoup(response.text, 'html.parser')\n",
        "      ratings = soup.findAll(\"div\", class_=\"ddc-comment ddc-box ddc-mgb-2\")\n",
        "\n",
        "      for rating in ratings:\n",
        "        comment = rating.text\n",
        "        text = comment.split('\\\"')[1]\n",
        "        try:\n",
        "          rating_value = int(comment.split('\\\"')[2].strip().split()[0])\n",
        "        except ValueError as e:\n",
        "          rating_value = np.NaN\n",
        "        data.append({\"Text\": text, \"Rating\": rating_value, \"Drug\": \"Rybelsus\"})\n",
        "      i += 1\n",
        "\n",
        "    else:\n",
        "      break"
      ]
    },
    {
      "cell_type": "markdown",
      "metadata": {
        "id": "l8JH_qV14tVk"
      },
      "source": [
        "## victoza ##"
      ]
    },
    {
      "cell_type": "code",
      "execution_count": null,
      "metadata": {
        "id": "dxVkY-ZG4tF0"
      },
      "outputs": [],
      "source": [
        "\n",
        "url = \"https://www.drugs.com/comments/liraglutide/victoza-for-diabetes-mellitus-type-ii.html\"\n",
        "response = requests.get(url)\n",
        "if response.status_code == 200:\n",
        "\n",
        "    soup = BeautifulSoup(response.text, 'html.parser')\n",
        "\n",
        "\n",
        "    ratings = soup.findAll(\"div\", class_=\"ddc-comment ddc-box ddc-mgb-2\")\n",
        "    for rating in ratings:\n",
        "        comment = rating.text\n",
        "        text = comment.split('\\\"')[1]\n",
        "        try:\n",
        "          rating_value = int(comment.split('\\\"')[2].strip().split()[0])\n",
        "        except ValueError as e:\n",
        "          rating_value = np.NaN\n",
        "        data.append({\"Text\": text, \"Rating\": rating_value, \"Drug\": \"Victoza\"})\n",
        "\n",
        "\n",
        "else:\n",
        "    print(\"Failed to retrieve the web page. Status code:\", response.status_code)"
      ]
    },
    {
      "cell_type": "code",
      "execution_count": null,
      "metadata": {
        "id": "0wIgjysG8UJ1"
      },
      "outputs": [],
      "source": [
        "i = 2\n",
        "while i < 7:\n",
        "    url = f\"https://www.drugs.com/comments/liraglutide/victoza-for-diabetes-mellitus-type-ii.html?page={i}\"\n",
        "    response = requests.get(url)\n",
        "    if response.status_code == 200:\n",
        "\n",
        "      soup = BeautifulSoup(response.text, 'html.parser')\n",
        "      ratings = soup.findAll(\"div\", class_=\"ddc-comment ddc-box ddc-mgb-2\")\n",
        "\n",
        "      for rating in ratings:\n",
        "        comment = rating.text\n",
        "        text = comment.split('\\\"')[1]\n",
        "        try:\n",
        "          rating_value = int(comment.split('\\\"')[2].strip().split()[0])\n",
        "        except ValueError as e:\n",
        "          rating_value = np.NaN\n",
        "        data.append({\"Text\": text, \"Rating\": rating_value, \"Drug\": \"Victoza\"})\n",
        "      i += 1\n",
        "\n",
        "    else:\n",
        "      break"
      ]
    },
    {
      "cell_type": "markdown",
      "metadata": {
        "id": "wBZ14fp18f80"
      },
      "source": [
        "## jardiance ##"
      ]
    },
    {
      "cell_type": "code",
      "execution_count": null,
      "metadata": {
        "id": "OFTDHUu7NrUr"
      },
      "outputs": [],
      "source": [
        "\n",
        "url = \"https://www.drugs.com/comments/empagliflozin/jardiance-for-diabetes-mellitus-type-ii.html\"\n",
        "response = requests.get(url)\n",
        "if response.status_code == 200:\n",
        "\n",
        "    soup = BeautifulSoup(response.text, 'html.parser')\n",
        "\n",
        "\n",
        "    ratings = soup.findAll(\"div\", class_=\"ddc-comment ddc-box ddc-mgb-2\")\n",
        "    for rating in ratings:\n",
        "        comment = rating.text\n",
        "        text = comment.split('\\\"')[1]\n",
        "        try:\n",
        "          rating_value = int(comment.split('\\\"')[2].strip().split()[0])\n",
        "        except ValueError as e:\n",
        "          rating_value = np.NaN\n",
        "        data.append({\"Text\": text, \"Rating\": rating_value, \"Drug\": \"Jardiance\"})\n",
        "\n",
        "\n",
        "else:\n",
        "    print(\"Failed to retrieve the web page. Status code:\", response.status_code)"
      ]
    },
    {
      "cell_type": "code",
      "execution_count": null,
      "metadata": {
        "id": "9pb-zQtyNtya"
      },
      "outputs": [],
      "source": [
        "i = 2\n",
        "while i < 7:\n",
        "    url = f\"https://www.drugs.com/comments/empagliflozin/jardiance-for-diabetes-mellitus-type-ii.html?page={i}\"\n",
        "    response = requests.get(url)\n",
        "    if response.status_code == 200:\n",
        "\n",
        "      soup = BeautifulSoup(response.text, 'html.parser')\n",
        "      ratings = soup.findAll(\"div\", class_=\"ddc-comment ddc-box ddc-mgb-2\")\n",
        "\n",
        "      for rating in ratings:\n",
        "        comment = rating.text\n",
        "        text = comment.split('\\\"')[1]\n",
        "        try:\n",
        "          rating_value = int(comment.split('\\\"')[2].strip().split()[0])\n",
        "        except ValueError as e:\n",
        "          rating_value = np.NaN\n",
        "        data.append({\"Text\": text, \"Rating\": rating_value, \"Drug\": \"Jardiance\"})\n",
        "      i += 1\n",
        "\n",
        "    else:\n",
        "      break\n",
        "df = pd.DataFrame(data)"
      ]
    },
    {
      "cell_type": "code",
      "execution_count": null,
      "metadata": {
        "colab": {
          "base_uri": "https://localhost:8080/"
        },
        "id": "OiQJny4gOzyD",
        "outputId": "7061c5ce-cc38-4e6d-d615-e611ae53c740"
      },
      "outputs": [
        {
          "data": {
            "text/plain": [
              "750"
            ]
          },
          "execution_count": 84,
          "metadata": {},
          "output_type": "execute_result"
        }
      ],
      "source": []
    },
    {
      "cell_type": "code",
      "execution_count": null,
      "metadata": {
        "id": "LwFNw84sSMX_"
      },
      "outputs": [],
      "source": [
        "df.to_csv('drug_reviews.csv', index=False)"
      ]
    }
  ],
  "metadata": {
    "colab": {
      "provenance": []
    },
    "kernelspec": {
      "display_name": "Python 3",
      "name": "python3"
    },
    "language_info": {
      "name": "python"
    }
  },
  "nbformat": 4,
  "nbformat_minor": 0
}
